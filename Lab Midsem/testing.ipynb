{
 "cells": [
  {
   "cell_type": "code",
   "execution_count": 20,
   "metadata": {},
   "outputs": [],
   "source": [
    "import numpy as np\n",
    "import math"
   ]
  },
  {
   "cell_type": "code",
   "execution_count": 26,
   "metadata": {},
   "outputs": [],
   "source": [
    "def newtons_method(f, df, x0, tolerance, max_iterations):\n",
    "    x = x0  # Start with initial guess\n",
    "    for _ in range(max_iterations):\n",
    "        x_new = x - f(x) / df(x)  # Newton's iteration formula\n",
    "        if abs(x_new - x) < tolerance:  # Check if we are close enough to the root\n",
    "            return x_new\n",
    "        x = x_new\n",
    "    return x  # Return the approximate root"
   ]
  },
  {
   "cell_type": "code",
   "execution_count": 30,
   "metadata": {},
   "outputs": [
    {
     "data": {
      "text/plain": [
       "0.999992263911058"
      ]
     },
     "execution_count": 30,
     "metadata": {},
     "output_type": "execute_result"
    }
   ],
   "source": [
    "newtons_method(f=lambda x: x**2*x**2-5*x*x**2+9*x**2-7*x+2, df=lambda x: 4*x*x**2-15*x**2+18*x-7, x0=0.5, tolerance=1e-10, max_iterations=1000)"
   ]
  },
  {
   "cell_type": "code",
   "execution_count": null,
   "metadata": {},
   "outputs": [],
   "source": [
    "#in python use bernoulli's method of finding dominant root of a polynomial to find the root of the function f= x**2*x**2-5*x*x**2+9*x**2-7*x+2, set up the difference equation a0xk+..+anxk-n=0, uses it to calculate the ratio rk=xk+1/xk, and then uses the ratio to converge to the dominant root of the polynomial\n",
    "def f(x): x**2*x**2-5*x*x**2+9*x**2-7*x+2\n",
    "def df(x): 4*x*x**2-15*x**2+18*x-7"
   ]
  },
  {
   "cell_type": "code",
   "execution_count": null,
   "metadata": {},
   "outputs": [],
   "source": [
    "import sympy"
   ]
  }
 ],
 "metadata": {
  "kernelspec": {
   "display_name": "base",
   "language": "python",
   "name": "python3"
  },
  "language_info": {
   "codemirror_mode": {
    "name": "ipython",
    "version": 3
   },
   "file_extension": ".py",
   "mimetype": "text/x-python",
   "name": "python",
   "nbconvert_exporter": "python",
   "pygments_lexer": "ipython3",
   "version": "3.9.17"
  }
 },
 "nbformat": 4,
 "nbformat_minor": 2
}
