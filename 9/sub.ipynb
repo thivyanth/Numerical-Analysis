{
 "cells": [
  {
   "cell_type": "code",
   "execution_count": 1,
   "metadata": {},
   "outputs": [],
   "source": [
    "import numpy as np"
   ]
  },
  {
   "cell_type": "code",
   "execution_count": 6,
   "metadata": {},
   "outputs": [],
   "source": [
    "def gaussian_elimination(A, b):\n",
    "    \n",
    "    A = np.array(A, float)\n",
    "    b = np.array(b, float)\n",
    "    n = len(b)\n",
    "    Aug = np.hstack([A, b.reshape(-1, 1)])\n",
    "\n",
    "    for k in range(n):\n",
    "        i_max = np.argmax(np.abs(Aug[k:n, k])) + k\n",
    "        Aug[[k, i_max]] = Aug[[i_max, k]]\n",
    "        for i in range(k+1, n):\n",
    "            f = Aug[i][k] / Aug[k][k]\n",
    "            Aug[i, k:n+1] = Aug[i, k:n+1] - Aug[k, k:n+1] * f\n",
    "\n",
    "    x = np.zeros(n)\n",
    "    for i in range(n-1, -1, -1):\n",
    "        x[i] = (Aug[i, n] - np.dot(Aug[i, i+1:n], x[i+1:n])) / Aug[i, i]\n",
    "    \n",
    "    return x\n"
   ]
  },
  {
   "cell_type": "code",
   "execution_count": 7,
   "metadata": {},
   "outputs": [],
   "source": [
    "A = np.array([[3, -1, 1, 2],\n",
    "              [6, -4, 3, 5],\n",
    "              [3, -13, 9, 3],\n",
    "              [-6, 4, 1, -18]], dtype=float)\n",
    "\n",
    "b = np.array([8, 13, -19, -34], dtype=float)"
   ]
  },
  {
   "cell_type": "code",
   "execution_count": 8,
   "metadata": {},
   "outputs": [
    {
     "name": "stdout",
     "output_type": "stream",
     "text": [
      "[ 3.  1. -2.  1.]\n"
     ]
    }
   ],
   "source": [
    "solution = gaussian_elimination(A, b)\n",
    "print(solution)"
   ]
  }
 ],
 "metadata": {
  "kernelspec": {
   "display_name": "base",
   "language": "python",
   "name": "python3"
  },
  "language_info": {
   "codemirror_mode": {
    "name": "ipython",
    "version": 3
   },
   "file_extension": ".py",
   "mimetype": "text/x-python",
   "name": "python",
   "nbconvert_exporter": "python",
   "pygments_lexer": "ipython3",
   "version": "3.9.17"
  }
 },
 "nbformat": 4,
 "nbformat_minor": 2
}
